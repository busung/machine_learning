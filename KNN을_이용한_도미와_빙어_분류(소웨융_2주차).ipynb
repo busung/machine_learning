{
  "nbformat": 4,
  "nbformat_minor": 0,
  "metadata": {
    "colab": {
      "name": "KNN을 이용한 도미와 빙어 분류(소웨융 2주차).ipynb",
      "provenance": [],
      "authorship_tag": "ABX9TyOcID+WqaCf+zJ22DXwrlBe",
      "include_colab_link": true
    },
    "kernelspec": {
      "name": "python3",
      "display_name": "Python 3"
    },
    "language_info": {
      "name": "python"
    }
  },
  "cells": [
    {
      "cell_type": "markdown",
      "metadata": {
        "id": "view-in-github",
        "colab_type": "text"
      },
      "source": [
        "<a href=\"https://colab.research.google.com/github/busung/machine_learning/blob/main/KNN%EC%9D%84_%EC%9D%B4%EC%9A%A9%ED%95%9C_%EB%8F%84%EB%AF%B8%EC%99%80_%EB%B9%99%EC%96%B4_%EB%B6%84%EB%A5%98(%EC%86%8C%EC%9B%A8%EC%9C%B5_2%EC%A3%BC%EC%B0%A8).ipynb\" target=\"_parent\"><img src=\"https://colab.research.google.com/assets/colab-badge.svg\" alt=\"Open In Colab\"/></a>"
      ]
    },
    {
      "cell_type": "markdown",
      "source": [
        "1. 머신러닝(데이터를 가지고 규칙을 찾고 이를 이용하여 예측함)\n",
        "2. 목표 설정"
      ],
      "metadata": {
        "id": "dyfx219jpa9N"
      }
    },
    {
      "cell_type": "markdown",
      "source": [
        "# 마켓과 머신러닝"
      ],
      "metadata": {
        "id": "gLVviAMVlE0D"
      }
    },
    {
      "cell_type": "markdown",
      "source": [
        "## 목표\n",
        "* 물고기 데이터 중 길이와 무게를 이용, 도미와 빙어 구분하기"
      ],
      "metadata": {
        "id": "QooeXAbHnA5H"
      }
    },
    {
      "cell_type": "code",
      "source": [
        "bream_length = [25.4, 26.3, 26.5, 29.0, 29.0, 29.7, 29.7, 30.0, 30.0, 30.7, 31.0, 31.0, \n",
        "                31.5, 32.0, 32.0, 32.0, 33.0, 33.0, 33.5, 33.5, 34.0, 34.0, 34.5, 35.0, \n",
        "                35.0, 35.0, 35.0, 36.0, 36.0, 37.0, 38.5, 38.5, 39.5, 41.0, 41.0]\n",
        "bream_weight = [242.0, 290.0, 340.0, 363.0, 430.0, 450.0, 500.0, 390.0, 450.0, 500.0, 475.0, 500.0, \n",
        "                500.0, 340.0, 600.0, 600.0, 700.0, 700.0, 610.0, 650.0, 575.0, 685.0, 620.0, 680.0, \n",
        "                700.0, 725.0, 720.0, 714.0, 850.0, 1000.0, 920.0, 955.0, 925.0, 975.0, 950.0]"
      ],
      "metadata": {
        "id": "JhzEoIzOnAUN"
      },
      "execution_count": null,
      "outputs": []
    },
    {
      "cell_type": "markdown",
      "source": [
        "## 데이터 시각화\n",
        "* 데이터의 경향성 파악"
      ],
      "metadata": {
        "id": "ARU3teWSoYDF"
      }
    },
    {
      "cell_type": "markdown",
      "source": [
        "### 도미 데이터"
      ],
      "metadata": {
        "id": "SMYcXG3UqUAn"
      }
    },
    {
      "cell_type": "code",
      "source": [
        "import matplotlib.pyplot as plt"
      ],
      "metadata": {
        "id": "uk-LezdSoXVg"
      },
      "execution_count": null,
      "outputs": []
    },
    {
      "cell_type": "code",
      "source": [
        "plt. scatter(bream_length,bream_weight)\n",
        "plt.xlabel(\"legnth\")\n",
        "plt.ylabel(\"weight\")\n",
        "plt.show()"
      ],
      "metadata": {
        "colab": {
          "base_uri": "https://localhost:8080/",
          "height": 279
        },
        "id": "Lv2xgdgSpzCW",
        "outputId": "0bb4f3b9-bd9f-49fb-9ac1-171d0915f009"
      },
      "execution_count": null,
      "outputs": [
        {
          "output_type": "display_data",
          "data": {
            "image/png": "[encoded data removed]",
            "text/plain": [
              "<Figure size 432x288 with 1 Axes>"
            ]
          },
          "metadata": {
            "needs_background": "light"
          }
        }
      ]
    },
    {
      "cell_type": "markdown",
      "source": [
        "### 빙어 데이터"
      ],
      "metadata": {
        "id": "esPsQ8gLtvGR"
      }
    },
    {
      "cell_type": "code",
      "source": [
        "smelt_length = [9.8, 10.5, 10.6, 11.0, 11.2, 11.3, 11.8, 11.8, 12.0, 12.2, 12.4, 13.0, 14.3, 15.0]\n",
        "smelt_weight = [6.7, 7.5, 7.0, 9.7, 9.8, 8.7, 10.0, 9.9, 9.8, 12.2, 13.4, 12.2, 19.7, 19.9]"
      ],
      "metadata": {
        "id": "awoJtOmvtwzF"
      },
      "execution_count": null,
      "outputs": []
    },
    {
      "cell_type": "code",
      "source": [
        "plt. scatter(smelt_length,smelt_weight)\n",
        "plt.xlabel(\"legnth\")\n",
        "plt.ylabel(\"weight\")\n",
        "plt.show()"
      ],
      "metadata": {
        "colab": {
          "base_uri": "https://localhost:8080/",
          "height": 279
        },
        "id": "6fCw0-vPtyMn",
        "outputId": "e19d2b98-b507-44be-83a0-316784d4e25a"
      },
      "execution_count": null,
      "outputs": [
        {
          "output_type": "display_data",
          "data": {
            "image/png": "[encoded data removed]",
            "text/plain": [
              "<Figure size 432x288 with 1 Axes>"
            ]
          },
          "metadata": {
            "needs_background": "light"
          }
        }
      ]
    },
    {
      "cell_type": "markdown",
      "source": [
        "### 도+빙 데이터 한 눈에 보기"
      ],
      "metadata": {
        "id": "7KwDoTtCusKi"
      }
    },
    {
      "cell_type": "code",
      "source": [
        "plt. scatter(bream_length,bream_weight)\n",
        "plt. scatter(smelt_length,smelt_weight)\n",
        "plt.xlabel(\"legnth\")\n",
        "plt.ylabel(\"weight\")\n",
        "plt.show()"
      ],
      "metadata": {
        "colab": {
          "base_uri": "https://localhost:8080/",
          "height": 279
        },
        "id": "vaIXjChzu0MD",
        "outputId": "76a8705a-bca2-49b7-fbf7-b3a809d75085"
      },
      "execution_count": null,
      "outputs": [
        {
          "output_type": "display_data",
          "data": {
            "image/png": "[encoded data removed]",
            "text/plain": [
              "<Figure size 432x288 with 1 Axes>"
            ]
          },
          "metadata": {
            "needs_background": "light"
          }
        }
      ]
    },
    {
      "cell_type": "markdown",
      "source": [
        "## K-NN사용\n",
        "1. 데이터를 병합\n",
        "2. 타겟 데이터 필요\n",
        "3. 학습\n",
        "4. 예측\n"
      ],
      "metadata": {
        "id": "p2K7W5kKwW3x"
      }
    },
    {
      "cell_type": "markdown",
      "source": [
        "### 데이터 병합"
      ],
      "metadata": {
        "id": "77CdCEKMwgQ1"
      }
    },
    {
      "cell_type": "code",
      "source": [
        "length = bream_length + smelt_length\n",
        "weight = bream_weight + smelt_weight"
      ],
      "metadata": {
        "id": "gBdv8JEkwih_"
      },
      "execution_count": null,
      "outputs": []
    },
    {
      "cell_type": "code",
      "source": [
        "fish_data = [[l,w] for l,w in zip(length,weight)]"
      ],
      "metadata": {
        "id": "z8EYkj18xGHA"
      },
      "execution_count": null,
      "outputs": []
    },
    {
      "cell_type": "code",
      "source": [
        "fish_data"
      ],
      "metadata": {
        "colab": {
          "base_uri": "https://localhost:8080/"
        },
        "id": "JDWXbmJLxSDy",
        "outputId": "d48ee61f-f262-43a4-f2b1-ac8c5589bc58"
      },
      "execution_count": null,
      "outputs": [
        {
          "output_type": "execute_result",
          "data": {
            "text/plain": [
              "[[25.4, 242.0],\n",
              " [26.3, 290.0],\n",
              " [26.5, 340.0],\n",
              " [29.0, 363.0],\n",
              " [29.0, 430.0],\n",
              " [29.7, 450.0],\n",
              " [29.7, 500.0],\n",
              " [30.0, 390.0],\n",
              " [30.0, 450.0],\n",
              " [30.7, 500.0],\n",
              " [31.0, 475.0],\n",
              " [31.0, 500.0],\n",
              " [31.5, 500.0],\n",
              " [32.0, 340.0],\n",
              " [32.0, 600.0],\n",
              " [32.0, 600.0],\n",
              " [33.0, 700.0],\n",
              " [33.0, 700.0],\n",
              " [33.5, 610.0],\n",
              " [33.5, 650.0],\n",
              " [34.0, 575.0],\n",
              " [34.0, 685.0],\n",
              " [34.5, 620.0],\n",
              " [35.0, 680.0],\n",
              " [35.0, 700.0],\n",
              " [35.0, 725.0],\n",
              " [35.0, 720.0],\n",
              " [36.0, 714.0],\n",
              " [36.0, 850.0],\n",
              " [37.0, 1000.0],\n",
              " [38.5, 920.0],\n",
              " [38.5, 955.0],\n",
              " [39.5, 925.0],\n",
              " [41.0, 975.0],\n",
              " [41.0, 950.0],\n",
              " [9.8, 6.7],\n",
              " [10.5, 7.5],\n",
              " [10.6, 7.0],\n",
              " [11.0, 9.7],\n",
              " [11.2, 9.8],\n",
              " [11.3, 8.7],\n",
              " [11.8, 10.0],\n",
              " [11.8, 9.9],\n",
              " [12.0, 9.8],\n",
              " [12.2, 12.2],\n",
              " [12.4, 13.4],\n",
              " [13.0, 12.2],\n",
              " [14.3, 19.7],\n",
              " [15.0, 19.9]]"
            ]
          },
          "metadata": {},
          "execution_count": 15
        }
      ]
    },
    {
      "cell_type": "markdown",
      "source": [
        "#### 타겟 데이터"
      ],
      "metadata": {
        "id": "TW0rNab5xka7"
      }
    },
    {
      "cell_type": "code",
      "source": [
        "fish_target = [1]*35 + [0]*14"
      ],
      "metadata": {
        "id": "-YOM41PAxmdL"
      },
      "execution_count": null,
      "outputs": []
    },
    {
      "cell_type": "markdown",
      "source": [
        "### 학습"
      ],
      "metadata": {
        "id": "tbAJOrswyxbj"
      }
    },
    {
      "cell_type": "code",
      "source": [
        "from sklearn.neighbors import KNeighborsClassifier"
      ],
      "metadata": {
        "id": "6QtS6w7zy2I-"
      },
      "execution_count": null,
      "outputs": []
    },
    {
      "cell_type": "code",
      "source": [
        "kn = KNeighborsClassifier()"
      ],
      "metadata": {
        "id": "eKSAZDcozDAe"
      },
      "execution_count": null,
      "outputs": []
    },
    {
      "cell_type": "code",
      "source": [
        "kn.fit(fish_data,fish_target)"
      ],
      "metadata": {
        "colab": {
          "base_uri": "https://localhost:8080/"
        },
        "id": "bY_wk94fzFJO",
        "outputId": "78ae4a87-1b3f-426e-ed53-8bda634f828a"
      },
      "execution_count": null,
      "outputs": [
        {
          "output_type": "execute_result",
          "data": {
            "text/plain": [
              "KNeighborsClassifier()"
            ]
          },
          "metadata": {},
          "execution_count": 38
        }
      ]
    },
    {
      "cell_type": "code",
      "source": [
        "kn.score(fish_data,fish_target)"
      ],
      "metadata": {
        "colab": {
          "base_uri": "https://localhost:8080/"
        },
        "id": "ZgGp9Etiz4gg",
        "outputId": "0188b4ce-492e-42dc-94ff-01dd939831e5"
      },
      "execution_count": null,
      "outputs": [
        {
          "output_type": "execute_result",
          "data": {
            "text/plain": [
              "1.0"
            ]
          },
          "metadata": {},
          "execution_count": 39
        }
      ]
    },
    {
      "cell_type": "code",
      "source": [
        "#30,600은 도미인 것을 확인 할 수 있음\n",
        "plt. scatter(bream_length,bream_weight)\n",
        "plt. scatter(smelt_length,smelt_weight)\n",
        "plt.scatter(30,600,marker=\"^\")\n",
        "plt.xlabel(\"legnth\")\n",
        "plt.ylabel(\"weight\")\n",
        "plt.show()"
      ],
      "metadata": {
        "colab": {
          "base_uri": "https://localhost:8080/",
          "height": 279
        },
        "id": "27aYYiM00By6",
        "outputId": "43c88d3e-f83e-4ad9-9bb0-b8b1963106d1"
      },
      "execution_count": null,
      "outputs": [
        {
          "output_type": "display_data",
          "data": {
            "image/png": "[encoded data removed]",
            "text/plain": [
              "<Figure size 432x288 with 1 Axes>"
            ]
          },
          "metadata": {
            "needs_background": "light"
          }
        }
      ]
    },
    {
      "cell_type": "code",
      "source": [
        "kn.predict([[30,600]])"
      ],
      "metadata": {
        "colab": {
          "base_uri": "https://localhost:8080/"
        },
        "id": "kmIPauzxz9vX",
        "outputId": "3cabf93b-5d14-436a-d195-5f85d830f800"
      },
      "execution_count": null,
      "outputs": [
        {
          "output_type": "execute_result",
          "data": {
            "text/plain": [
              "array([1])"
            ]
          },
          "metadata": {},
          "execution_count": 40
        }
      ]
    }
  ]
}